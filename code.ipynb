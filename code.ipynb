{
 "cells": [
  {
   "cell_type": "markdown",
   "id": "daeac1c2-4283-4d27-970e-1af1ee141629",
   "metadata": {},
   "source": [
    "# 1 Checking the data and null values"
   ]
  },
  {
   "cell_type": "code",
   "execution_count": 9,
   "id": "9efec96f-f2f4-4e93-9dd6-7695e354718d",
   "metadata": {},
   "outputs": [
    {
     "name": "stdout",
     "output_type": "stream",
     "text": [
      "   gender race/ethnicity parental level of education         lunch  \\\n",
      "0  female        group B           bachelor's degree      standard   \n",
      "1  female        group C                some college      standard   \n",
      "2  female        group B             master's degree      standard   \n",
      "3    male        group A          associate's degree  free/reduced   \n",
      "4    male        group C                some college      standard   \n",
      "\n",
      "  test preparation course  math score  reading score  writing score  \n",
      "0                    none          72             72             74  \n",
      "1               completed          69             90             88  \n",
      "2                    none          90             95             93  \n",
      "3                    none          47             57             44  \n",
      "4                    none          76             78             75  \n",
      "gender                         0\n",
      "race/ethnicity                 0\n",
      "parental level of education    0\n",
      "lunch                          0\n",
      "test preparation course        0\n",
      "math score                     0\n",
      "reading score                  0\n",
      "writing score                  0\n",
      "dtype: int64\n",
      "<class 'pandas.core.frame.DataFrame'>\n",
      "RangeIndex: 1000 entries, 0 to 999\n",
      "Data columns (total 8 columns):\n",
      " #   Column                       Non-Null Count  Dtype \n",
      "---  ------                       --------------  ----- \n",
      " 0   gender                       1000 non-null   object\n",
      " 1   race/ethnicity               1000 non-null   object\n",
      " 2   parental level of education  1000 non-null   object\n",
      " 3   lunch                        1000 non-null   object\n",
      " 4   test preparation course      1000 non-null   object\n",
      " 5   math score                   1000 non-null   int64 \n",
      " 6   reading score                1000 non-null   int64 \n",
      " 7   writing score                1000 non-null   int64 \n",
      "dtypes: int64(3), object(5)\n",
      "memory usage: 62.6+ KB\n",
      "None\n"
     ]
    }
   ],
   "source": [
    "import pandas as pd\n",
    "\n",
    "# Load dataset\n",
    "df = pd.read_csv(\"students.csv\")\n",
    "\n",
    "# Display first few rows\n",
    "print(df.head())\n",
    "\n",
    "# Check for missing values\n",
    "print(df.isnull().sum())\n",
    "\n",
    "# Check column data types\n",
    "print(df.info())\n"
   ]
  },
  {
   "cell_type": "markdown",
   "id": "bd8b9ccb-4e65-407e-8aef-435f8fb2ab4f",
   "metadata": {},
   "source": [
    "# 2 making new column pass"
   ]
  },
  {
   "cell_type": "code",
   "execution_count": 16,
   "id": "9d5a64af-c858-4dd9-bf3d-fc4e66f66bd1",
   "metadata": {},
   "outputs": [
    {
     "name": "stdout",
     "output_type": "stream",
     "text": [
      "   gender  race/ethnicity  parental level of education  lunch  \\\n",
      "0       0               1                            1      1   \n",
      "1       0               2                            4      1   \n",
      "2       0               1                            3      1   \n",
      "3       1               0                            0      0   \n",
      "4       1               2                            4      1   \n",
      "\n",
      "   test preparation course  reading score  writing score  pass  \n",
      "0                        1             72             74     1  \n",
      "1                        0             90             88     1  \n",
      "2                        1             95             93     1  \n",
      "3                        1             57             44     0  \n",
      "4                        1             78             75     1  \n"
     ]
    }
   ],
   "source": [
    "from sklearn.preprocessing import LabelEncoder\n",
    "\n",
    "# Encode categorical columns\n",
    "categorical_columns = ['gender', 'race/ethnicity', 'parental level of education', 'lunch', 'test preparation course']\n",
    "encoder = LabelEncoder()\n",
    "\n",
    "for col in categorical_columns:\n",
    "    df[col] = encoder.fit_transform(df[col])\n",
    "\n",
    "# Define target variable (Pass/Fail based on math score)\n",
    "df['pass'] = df['math score'].apply(lambda x: 1 if x >= 50 else 0)  # 1 = Pass, 0 = Fail\n",
    "\n",
    "# Drop original math score column\n",
    "df = df.drop(columns=['math score'])\n",
    "\n",
    "print(df.head())\n"
   ]
  },
  {
   "cell_type": "markdown",
   "id": "9b3a93c2-8d57-4261-8401-fc0713fdfb1d",
   "metadata": {},
   "source": [
    "# 3 splitting data"
   ]
  },
  {
   "cell_type": "code",
   "execution_count": 22,
   "id": "8d82fcf4-d6e2-4b0b-bfe7-f58cbf1a6cff",
   "metadata": {},
   "outputs": [
    {
     "name": "stdout",
     "output_type": "stream",
     "text": [
      "Index(['gender', 'race/ethnicity', 'parental level of education', 'lunch',\n",
      "       'test preparation course', 'reading score', 'writing score', 'pass'],\n",
      "      dtype='object')\n",
      "Training data: (800, 7), Testing data: (200, 7)\n"
     ]
    }
   ],
   "source": [
    "# Check column names\n",
    "print(df.columns)\n",
    "\n",
    "# Define X and y\n",
    "X = df.drop(columns=['pass'])  # Features\n",
    "y = df['pass']  # Target variable\n",
    "\n",
    "# Split into training & testing sets\n",
    "X_train, X_test, y_train, y_test = train_test_split(X, y, test_size=0.2, random_state=42)\n",
    "\n",
    "print(f\"Training data: {X_train.shape}, Testing data: {X_test.shape}\")"
   ]
  },
  {
   "cell_type": "markdown",
   "id": "5478b9f7-f8ae-4bd2-a6b9-81324632ef31",
   "metadata": {},
   "source": [
    "# 4 evaluate and training"
   ]
  },
  {
   "cell_type": "code",
   "execution_count": 36,
   "id": "3a737828-78d4-4755-8ae1-f87f0bde52a1",
   "metadata": {},
   "outputs": [
    {
     "name": "stdout",
     "output_type": "stream",
     "text": [
      "Accuracy: 0.89\n",
      "Classification Report:\n",
      "               precision    recall  f1-score   support\n",
      "\n",
      "           0       0.70      0.62      0.66        34\n",
      "           1       0.92      0.95      0.93       166\n",
      "\n",
      "    accuracy                           0.89       200\n",
      "   macro avg       0.81      0.78      0.80       200\n",
      "weighted avg       0.89      0.89      0.89       200\n",
      "\n"
     ]
    }
   ],
   "source": [
    "from sklearn.linear_model import LogisticRegression\n",
    "\n",
    "# Create and train the Logistic Regression model with increased iterations\n",
    "logistic_model = LogisticRegression(max_iter=500)  # Increased max_iter from default 100 to 500\n",
    "logistic_model.fit(X_train, y_train)\n",
    "\n",
    "# Predict on the test set\n",
    "y_pred = logistic_model.predict(X_test)\n",
    "\n",
    "# Evaluate the model\n",
    "from sklearn.metrics import accuracy_score, classification_report\n",
    "\n",
    "# Print Accuracy\n",
    "accuracy = accuracy_score(y_test, y_pred)\n",
    "print(f'Accuracy: {accuracy:.2f}')\n",
    "\n",
    "# Print Classification Report\n",
    "print('Classification Report:\\n', classification_report(y_test, y_pred))\n"
   ]
  },
  {
   "cell_type": "code",
   "execution_count": 48,
   "id": "daeb7b4a-77b3-4b46-a6d3-9181ab0143bb",
   "metadata": {},
   "outputs": [
    {
     "name": "stdout",
     "output_type": "stream",
     "text": [
      "Balanced Accuracy: 0.90\n",
      "Balanced Precision: 0.97\n",
      "Balanced Recall: 0.90\n",
      "Balanced F1 Score: 0.93\n"
     ]
    }
   ],
   "source": [
    "from sklearn.linear_model import LogisticRegression\n",
    "\n",
    "# Train model with class balancing\n",
    "logistic_model_balanced = LogisticRegression(max_iter=500, class_weight='balanced')\n",
    "logistic_model_balanced.fit(X_train, y_train)\n",
    "\n",
    "# Predict again\n",
    "y_pred_balanced = logistic_model_balanced.predict(X_test)\n",
    "\n",
    "# Recalculate accuracy & metrics\n",
    "from sklearn.metrics import accuracy_score, precision_score, recall_score, f1_score\n",
    "\n",
    "accuracy = accuracy_score(y_test, y_pred_balanced)\n",
    "precision = precision_score(y_test, y_pred_balanced)\n",
    "recall = recall_score(y_test, y_pred_balanced)\n",
    "f1 = f1_score(y_test, y_pred_balanced)\n",
    "\n",
    "print(f'Balanced Accuracy: {accuracy:.2f}')\n",
    "print(f'Balanced Precision: {precision:.2f}')\n",
    "print(f'Balanced Recall: {recall:.2f}')\n",
    "print(f'Balanced F1 Score: {f1:.2f}')\n"
   ]
  },
  {
   "cell_type": "code",
   "execution_count": 106,
   "id": "666d124b-39b3-4600-b42a-1422ae0f1f24",
   "metadata": {},
   "outputs": [
    {
     "name": "stdout",
     "output_type": "stream",
     "text": [
      "✅ Label encoders saved successfully!\n"
     ]
    }
   ],
   "source": [
    "import pandas as pd\n",
    "import joblib\n",
    "from sklearn.preprocessing import LabelEncoder\n",
    "\n",
    "# Load your training data\n",
    "df = pd.read_csv(\"students.csv\")  # Replace with actual file\n",
    "\n",
    "# Define categorical columns\n",
    "categorical_columns = ['gender', 'race/ethnicity', 'parental level of education', 'lunch', 'test preparation course']\n",
    "\n",
    "# Create label encoders and fit them\n",
    "label_encoders = {}\n",
    "for col in categorical_columns:\n",
    "    le = LabelEncoder()\n",
    "    df[col] = le.fit_transform(df[col])  # Apply transformation to training data\n",
    "    label_encoders[col] = le  # Store the fitted encoder\n",
    "\n",
    "# Save the label encoders for future use\n",
    "joblib.dump(label_encoders, \"label_encoders.pkl\")\n",
    "print(\"✅ Label encoders saved successfully!\")\n"
   ]
  },
  {
   "cell_type": "code",
   "execution_count": 60,
   "id": "a2babaea-1a39-4e89-9704-0d5eeb187b63",
   "metadata": {},
   "outputs": [
    {
     "data": {
      "image/png": "[encoded data removed]",
      "text/plain": [
       "<Figure size 640x480 with 2 Axes>"
      ]
     },
     "metadata": {},
     "output_type": "display_data"
    }
   ],
   "source": [
    "from sklearn.metrics import confusion_matrix, ConfusionMatrixDisplay\n",
    "import matplotlib.pyplot as plt\n",
    "\n",
    "# Predict using the balanced model\n",
    "y_pred_balanced = logistic_model_balanced.predict(X_test)\n",
    "\n",
    "# Generate confusion matrix\n",
    "cm_balanced = confusion_matrix(y_test, y_pred_balanced)\n",
    "\n",
    "# Display confusion matrix\n",
    "disp = ConfusionMatrixDisplay(confusion_matrix=cm_balanced, display_labels=[\"Fail\", \"Pass\"])\n",
    "disp.plot(cmap='Blues')\n",
    "\n",
    "# Show the plot\n",
    "plt.show()\n"
   ]
  },
  {
   "cell_type": "code",
   "execution_count": 62,
   "id": "630398bf-00ed-43d9-8d6a-c57f158ab0b6",
   "metadata": {},
   "outputs": [
    {
     "name": "stdout",
     "output_type": "stream",
     "text": [
      "Best Parameters: {'C': 10, 'max_iter': 100, 'solver': 'newton-cg'}\n"
     ]
    }
   ],
   "source": [
    "from sklearn.model_selection import GridSearchCV\n",
    "from sklearn.linear_model import LogisticRegression\n",
    "\n",
    "# Define hyperparameter grid\n",
    "param_grid = {\n",
    "    'C': [0.01, 0.1, 1, 10, 100],  # Regularization strength\n",
    "    'solver': ['liblinear', 'lbfgs', 'newton-cg'],  # Optimization algorithms\n",
    "    'max_iter': [100, 200, 500]  # Iterations for convergence\n",
    "}\n",
    "\n",
    "# Initialize model\n",
    "logistic = LogisticRegression(class_weight='balanced')\n",
    "\n",
    "# Grid Search with Cross Validation\n",
    "grid_search = GridSearchCV(logistic, param_grid, cv=5, scoring='accuracy', n_jobs=-1)\n",
    "grid_search.fit(X_train, y_train)\n",
    "\n",
    "# Best Parameters\n",
    "print(\"Best Parameters:\", grid_search.best_params_)\n",
    "\n",
    "# Train best model\n",
    "best_model = grid_search.best_estimator_\n",
    "\n",
    "# Evaluate on test data\n",
    "y_pred_best = best_model.predict(X_test)\n"
   ]
  },
  {
   "cell_type": "code",
   "execution_count": 68,
   "id": "6123ee03-3c81-4d3c-84a9-259bb2573479",
   "metadata": {},
   "outputs": [
    {
     "data": {
      "image/png": "[encoded data removed]",
      "text/plain": [
       "<Figure size 640x480 with 2 Axes>"
      ]
     },
     "metadata": {},
     "output_type": "display_data"
    }
   ],
   "source": [
    "from sklearn.metrics import confusion_matrix, ConfusionMatrixDisplay\n",
    "\n",
    "# New confusion matrix\n",
    "cm_best = confusion_matrix(y_test, y_pred_best)\n",
    "disp = ConfusionMatrixDisplay(confusion_matrix=cm_best, display_labels=[\"Fail\", \"Pass\"])\n",
    "disp.plot(cmap='Blues')\n",
    "plt.show()\n"
   ]
  },
  {
   "cell_type": "code",
   "execution_count": 110,
   "id": "d498ffaf-3028-407b-9d62-fc1b674843c2",
   "metadata": {},
   "outputs": [
    {
     "name": "stdout",
     "output_type": "stream",
     "text": [
      "Features used in training: ['gender', 'race/ethnicity', 'parental level of education', 'lunch', 'test preparation course', 'math score', 'reading score', 'writing score']\n"
     ]
    }
   ],
   "source": [
    "print(\"Features used in training:\", df.columns.tolist())  # Check training feature names\n"
   ]
  },
  {
   "cell_type": "code",
   "execution_count": 114,
   "id": "1a327143-4839-46a8-b3b1-b8288aa249b2",
   "metadata": {},
   "outputs": [],
   "source": [
    "# Create new test student data with only 7 features (remove one)\n",
    "new_students = pd.DataFrame([\n",
    "    ['male', 'group B', \"bachelor's degree\", 'standard', 'completed', 80, 85]\n",
    "], columns=['gender', 'race/ethnicity', 'parental level of education', 'lunch', 'test preparation course', \n",
    "            'math score', 'reading score'])  # Removed 'writing score'\n"
   ]
  },
  {
   "cell_type": "code",
   "execution_count": 116,
   "id": "237bf98b-c41a-442c-84bd-46ac68518cac",
   "metadata": {},
   "outputs": [
    {
     "name": "stdout",
     "output_type": "stream",
     "text": [
      "Predicted Pass/Fail: Pass\n"
     ]
    },
    {
     "name": "stderr",
     "output_type": "stream",
     "text": [
      "C:\\Users\\ADMIN\\anaconda3\\Lib\\site-packages\\sklearn\\base.py:493: UserWarning: X does not have valid feature names, but LogisticRegression was fitted with feature names\n",
      "  warnings.warn(\n"
     ]
    }
   ],
   "source": [
    "import pandas as pd\n",
    "import joblib\n",
    "\n",
    "# Load trained model\n",
    "model = joblib.load(\"student_performance_model.pkl\")\n",
    "\n",
    "# Load correctly saved label encoders\n",
    "label_encoders = joblib.load(\"label_encoders.pkl\")\n",
    "\n",
    "# Ensure categorical columns are encoded\n",
    "for col in label_encoders.keys():\n",
    "    new_students[col] = label_encoders[col].transform(new_students[col])\n",
    "\n",
    "# Convert DataFrame to numpy array\n",
    "new_students_encoded = new_students.values\n",
    "\n",
    "# Make prediction\n",
    "predicted_result = model.predict(new_students_encoded)\n",
    "print(\"Predicted Pass/Fail:\", \"Pass\" if predicted_result[0] == 1 else \"Fail\")\n"
   ]
  },
  {
   "cell_type": "code",
   "execution_count": 130,
   "id": "d38e88ad-5850-4e9d-99c6-3ea20f62350f",
   "metadata": {},
   "outputs": [
    {
     "name": "stdout",
     "output_type": "stream",
     "text": [
      "Accuracy: 1.00\n",
      "Classification Report:\n",
      "               precision    recall  f1-score   support\n",
      "\n",
      "           0       1.00      1.00      1.00        34\n",
      "           1       1.00      1.00      1.00       166\n",
      "\n",
      "    accuracy                           1.00       200\n",
      "   macro avg       1.00      1.00      1.00       200\n",
      "weighted avg       1.00      1.00      1.00       200\n",
      "\n"
     ]
    }
   ],
   "source": [
    "import pandas as pd\n",
    "import joblib\n",
    "from sklearn.model_selection import train_test_split\n",
    "from sklearn.linear_model import LogisticRegression\n",
    "from sklearn.metrics import accuracy_score, classification_report\n",
    "from sklearn.preprocessing import LabelEncoder\n",
    "\n",
    "# Load dataset\n",
    "df = pd.read_csv(\"students.csv\")\n",
    "\n",
    "# Keep only the required columns\n",
    "df = df[['test preparation course', 'math score', 'reading score', 'writing score']]\n",
    "\n",
    "# Encode categorical variable\n",
    "label_encoder = LabelEncoder()\n",
    "df['test preparation course'] = label_encoder.fit_transform(df['test preparation course'])\n",
    "\n",
    "# Save encoder for future use\n",
    "joblib.dump(label_encoder, \"test_prep_encoder.pkl\")\n",
    "\n",
    "# Define target variable (Pass/Fail based on math score)\n",
    "df['pass'] = df['math score'].apply(lambda x: 1 if x >= 50 else 0)  # 1 = Pass, 0 = Fail\n",
    "\n",
    "# Define X and y\n",
    "X = df[['test preparation course', 'math score', 'reading score', 'writing score']]  # Only these features\n",
    "y = df['pass']\n",
    "\n",
    "# Split into train & test sets\n",
    "X_train, X_test, y_train, y_test = train_test_split(X, y, test_size=0.2, random_state=42)\n",
    "\n",
    "# Train Logistic Regression Model\n",
    "model = LogisticRegression(max_iter=500, class_weight=\"balanced\")\n",
    "model.fit(X_train, y_train)\n",
    "\n",
    "# Save model\n",
    "joblib.dump(model, \"student_performance_model.pkl\")\n",
    "\n",
    "# Predictions\n",
    "y_pred = model.predict(X_test)\n",
    "\n",
    "# Evaluate model\n",
    "accuracy = accuracy_score(y_test, y_pred)\n",
    "print(f'Accuracy: {accuracy:.2f}')\n",
    "print('Classification Report:\\n', classification_report(y_test, y_pred))\n"
   ]
  },
  {
   "cell_type": "code",
   "execution_count": 132,
   "id": "d0dac9b4-d6f8-4a77-8d35-806a22352a95",
   "metadata": {},
   "outputs": [
    {
     "name": "stdout",
     "output_type": "stream",
     "text": [
      "Predicted Pass/Fail: Pass\n"
     ]
    }
   ],
   "source": [
    "# Load trained model and encoder\n",
    "model = joblib.load(\"student_performance_model.pkl\")\n",
    "label_encoder = joblib.load(\"test_prep_encoder.pkl\")\n",
    "\n",
    "# Sample student data (modify as needed)\n",
    "new_students = pd.DataFrame([\n",
    "    ['completed', 80, 85, 90]\n",
    "], columns=['test preparation course', 'math score', 'reading score', 'writing score'])\n",
    "\n",
    "# Encode 'test preparation course'\n",
    "new_students['test preparation course'] = label_encoder.transform(new_students['test preparation course'])\n",
    "\n",
    "# Make prediction\n",
    "predicted_result = model.predict(new_students)\n",
    "print(\"Predicted Pass/Fail:\", \"Pass\" if predicted_result[0] == 1 else \"Fail\")\n"
   ]
  },
  {
   "cell_type": "code",
   "execution_count": 138,
   "id": "b00e330f-0d88-454d-b493-4ff8e5adb283",
   "metadata": {},
   "outputs": [
    {
     "name": "stdout",
     "output_type": "stream",
     "text": [
      "Predicted Pass/Fail: Pass\n"
     ]
    }
   ],
   "source": [
    "# Load trained model and encoder\n",
    "model = joblib.load(\"student_performance_model.pkl\")\n",
    "label_encoder = joblib.load(\"test_prep_encoder.pkl\")\n",
    "\n",
    "# Sample student data (modify as needed)\n",
    "new_students = pd.DataFrame([\n",
    "    ['none', 60, 0, 0]\n",
    "], columns=['test preparation course', 'math score', 'reading score', 'writing score'])\n",
    "\n",
    "# Encode 'test preparation course'\n",
    "new_students['test preparation course'] = label_encoder.transform(new_students['test preparation course'])\n",
    "\n",
    "# Make prediction\n",
    "predicted_result = model.predict(new_students)\n",
    "print(\"Predicted Pass/Fail:\", \"Pass\" if predicted_result[0] == 1 else \"Fail\")\n"
   ]
  },
  {
   "cell_type": "code",
   "execution_count": 140,
   "id": "219324be-ffa8-4985-aa62-5fbd4a31e461",
   "metadata": {},
   "outputs": [
    {
     "name": "stdout",
     "output_type": "stream",
     "text": [
      "✅ Model retrained and saved successfully!\n"
     ]
    }
   ],
   "source": [
    "import pandas as pd\n",
    "from sklearn.model_selection import train_test_split\n",
    "from sklearn.linear_model import LogisticRegression\n",
    "from sklearn.preprocessing import LabelEncoder\n",
    "import joblib\n",
    "\n",
    "# Load dataset\n",
    "df = pd.read_csv(\"students.csv\")  # Adjust the path if needed\n",
    "\n",
    "# Keep only required columns\n",
    "selected_columns = ['test preparation course', 'math score', 'reading score', 'writing score']\n",
    "df = df[selected_columns]\n",
    "\n",
    "# Encode categorical column\n",
    "le = LabelEncoder()\n",
    "df['test preparation course'] = le.fit_transform(df['test preparation course'])\n",
    "\n",
    "# Define Pass/Fail (based on the average of three scores)\n",
    "df['pass'] = df[['math score', 'reading score', 'writing score']].mean(axis=1).apply(lambda x: 1 if x >= 50 else 0)\n",
    "\n",
    "# Define Features & Target\n",
    "X = df.drop(columns=['pass'])  # Features\n",
    "y = df['pass']  # Target variable\n",
    "\n",
    "# Split data\n",
    "X_train, X_test, y_train, y_test = train_test_split(X, y, test_size=0.2, random_state=42)\n",
    "\n",
    "# Train model\n",
    "model = LogisticRegression(max_iter=500, class_weight='balanced')\n",
    "model.fit(X_train, y_train)\n",
    "\n",
    "# Save the model\n",
    "joblib.dump(model, \"student_performance_model.pkl\")\n",
    "joblib.dump(le, \"test_prep_encoder.pkl\")\n",
    "\n",
    "print(\"✅ Model retrained and saved successfully!\")\n"
   ]
  },
  {
   "cell_type": "code",
   "execution_count": 161,
   "id": "c9d7ec12-e922-473b-9e54-7ca236176f40",
   "metadata": {},
   "outputs": [
    {
     "name": "stdout",
     "output_type": "stream",
     "text": [
      "Predicted Pass/Fail: Fail\n"
     ]
    },
    {
     "name": "stderr",
     "output_type": "stream",
     "text": [
      "C:\\Users\\ADMIN\\anaconda3\\Lib\\site-packages\\sklearn\\base.py:493: UserWarning: X does not have valid feature names, but LogisticRegression was fitted with feature names\n",
      "  warnings.warn(\n"
     ]
    }
   ],
   "source": [
    "import pandas as pd\n",
    "import joblib\n",
    "\n",
    "# Load trained model\n",
    "model = joblib.load(\"student_performance_model.pkl\")\n",
    "test_prep_encoder = joblib.load(\"test_prep_encoder.pkl\")\n",
    "\n",
    "# Create new student data\n",
    "new_students = pd.DataFrame([\n",
    "    ['none', 50, 50, 50]  # Example test case\n",
    "], columns=['test preparation course', 'math score', 'reading score', 'writing score'])\n",
    "\n",
    "# Encode 'test preparation course'\n",
    "new_students['test preparation course'] = test_prep_encoder.transform(new_students['test preparation course'])\n",
    "\n",
    "# Convert DataFrame to numpy array\n",
    "new_students_encoded = new_students.values\n",
    "\n",
    "# Make prediction\n",
    "predicted_result = model.predict(new_students_encoded)\n",
    "print(\"Predicted Pass/Fail:\", \"Pass\" if predicted_result[0] == 1 else \"Fail\")\n"
   ]
  }
 ],
 "metadata": {
  "kernelspec": {
   "display_name": "Python 3 (ipykernel)",
   "language": "python",
   "name": "python3"
  },
  "language_info": {
   "codemirror_mode": {
    "name": "ipython",
    "version": 3
   },
   "file_extension": ".py",
   "mimetype": "text/x-python",
   "name": "python",
   "nbconvert_exporter": "python",
   "pygments_lexer": "ipython3",
   "version": "3.12.4"
  }
 },
 "nbformat": 4,
 "nbformat_minor": 5
}
